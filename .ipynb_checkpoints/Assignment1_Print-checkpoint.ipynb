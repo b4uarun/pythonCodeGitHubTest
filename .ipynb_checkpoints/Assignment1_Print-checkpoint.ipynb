{
 "cells": [
  {
   "cell_type": "markdown",
   "id": "54472cc3-055e-42a1-9a0b-518204ff84e3",
   "metadata": {},
   "source": [
    "## Updating header here to test GitHub process"
   ]
  },
  {
   "cell_type": "code",
   "execution_count": 1,
   "id": "2e3cc7e8-502f-4a88-afc7-a6638004529c",
   "metadata": {},
   "outputs": [
    {
     "name": "stdin",
     "output_type": "stream",
     "text": [
      "Enter the num1: 100\n",
      "Enter the num2: 200\n"
     ]
    },
    {
     "name": "stdout",
     "output_type": "stream",
     "text": [
      "300\n"
     ]
    }
   ],
   "source": [
    "num1=eval(input(\"Enter the num1:\"))\n",
    "num2=eval(input(\"Enter the num2:\"))\n",
    "sum=num1+num2\n",
    "print(sum)"
   ]
  },
  {
   "cell_type": "code",
   "execution_count": 3,
   "id": "d2125742-acae-477b-ae37-133da0d87751",
   "metadata": {},
   "outputs": [
    {
     "name": "stdin",
     "output_type": "stream",
     "text": [
      "Enter num1: 100\n",
      "Enter num2: 200\n",
      "Enter num3: 300\n"
     ]
    },
    {
     "name": "stdout",
     "output_type": "stream",
     "text": [
      "Average of given numbes: 200.0\n"
     ]
    }
   ],
   "source": [
    "num1=eval(input(\"Enter num1:\"))\n",
    "num2=eval(input(\"Enter num2:\"))\n",
    "num3=eval(input(\"Enter num3:\"))\n",
    "avg=(num1+num2+num3)/3\n",
    "print(f\"Average of given numbes: {avg}\")"
   ]
  },
  {
   "cell_type": "code",
   "execution_count": 5,
   "id": "f7420936-b6a7-423b-a19f-9649a8bff9be",
   "metadata": {},
   "outputs": [
    {
     "name": "stdin",
     "output_type": "stream",
     "text": [
      "Entare name: Arun\n",
      "Enter age: 45\n",
      "Enter city Hyd\n"
     ]
    },
    {
     "name": "stdout",
     "output_type": "stream",
     "text": [
      "Myname is Arun , my age is 45 and my city is Hyd\n"
     ]
    }
   ],
   "source": [
    "name=input(\"Entare name:\")\n",
    "age=eval(input(\"Enter age:\"))\n",
    "city=input(\"Enter city\")\n",
    "print(f\"Myname is {name} , my age is {age} and my city is {city}\")"
   ]
  },
  {
   "cell_type": "code",
   "execution_count": 7,
   "id": "55b97a82-f114-4034-b4b5-184939c1170b",
   "metadata": {},
   "outputs": [
    {
     "name": "stdin",
     "output_type": "stream",
     "text": [
      "Enter Radius of circle: 20\n",
      "Enter pi value: 3.14\n"
     ]
    },
    {
     "name": "stdout",
     "output_type": "stream",
     "text": [
      "Area of circle :1256.0\n"
     ]
    }
   ],
   "source": [
    "r=eval(input(\"Enter Radius of circle:\"))\n",
    "pi=eval(input(\"Enter pi value:\"))\n",
    "area=pi*r*r\n",
    "print(f\"Area of circle :{area}\")"
   ]
  },
  {
   "cell_type": "code",
   "execution_count": 9,
   "id": "a337b407-4499-4a09-855f-bed4ad07e905",
   "metadata": {},
   "outputs": [
    {
     "name": "stdin",
     "output_type": "stream",
     "text": [
      "Enter breadth of triangle: 20\n",
      "Enter Hight of triangle : 30\n"
     ]
    },
    {
     "name": "stdout",
     "output_type": "stream",
     "text": [
      "Area of triangle:300.0\n"
     ]
    }
   ],
   "source": [
    "b=eval(input(\"Enter breadth of triangle:\"))\n",
    "h=eval(input(\"Enter Hight of triangle :\"))\n",
    "area=0.5*b*h\n",
    "print (f\"Area of triangle:{area}\")"
   ]
  },
  {
   "cell_type": "code",
   "execution_count": 11,
   "id": "19ff66d1-3590-4efd-a0b3-43ebc0165470",
   "metadata": {},
   "outputs": [
    {
     "name": "stdin",
     "output_type": "stream",
     "text": [
      "Enter bill amount: 2000\n",
      "Enter tip amount: 100\n"
     ]
    },
    {
     "name": "stdout",
     "output_type": "stream",
     "text": [
      "Total bill : 2100\n"
     ]
    }
   ],
   "source": [
    "bill=eval(input(\"Enter bill amount:\"))\n",
    "tip=eval(input(\"Enter tip amount:\"))\n",
    "tbill=bill+tip\n",
    "print(f\"Total bill : {tbill}\")"
   ]
  },
  {
   "cell_type": "code",
   "execution_count": 13,
   "id": "42c706ec-28de-44a4-8fb6-802ccade61e4",
   "metadata": {},
   "outputs": [
    {
     "name": "stdin",
     "output_type": "stream",
     "text": [
      "Enter bill amount: 2000\n",
      "Enter tip percentage: 2\n"
     ]
    },
    {
     "name": "stdout",
     "output_type": "stream",
     "text": [
      "Total bill : 2040.0\n"
     ]
    }
   ],
   "source": [
    "bill=eval(input(\"Enter bill amount:\"))\n",
    "tipperc=eval(input(\"Enter tip percentage:\"))\n",
    "tbill=bill+(bill*tipperc/100)\n",
    "print(f\"Total bill : {tbill}\")"
   ]
  },
  {
   "cell_type": "code",
   "execution_count": 15,
   "id": "578f2ad6-3be3-4569-83f1-7c745fac803c",
   "metadata": {},
   "outputs": [
    {
     "name": "stdin",
     "output_type": "stream",
     "text": [
      "Enter Radius of Sphere: 20\n"
     ]
    },
    {
     "name": "stdout",
     "output_type": "stream",
     "text": [
      "Volume of sphere :33493.33\n"
     ]
    }
   ],
   "source": [
    "r=eval(input(\"Enter Radius of Sphere:\"))\n",
    "vol=round(4*3.14*r*r*r/3,2)\n",
    "print(f\"Volume of sphere :{vol}\")"
   ]
  },
  {
   "cell_type": "code",
   "execution_count": 17,
   "id": "a8d120d9-3710-4316-a7fa-65a354fa1536",
   "metadata": {},
   "outputs": [
    {
     "name": "stdin",
     "output_type": "stream",
     "text": [
      "Please enter doller you want to convert into Rupee: 3000\n"
     ]
    },
    {
     "name": "stdout",
     "output_type": "stream",
     "text": [
      "3000 Doller is equal to 255000 Repees\n"
     ]
    }
   ],
   "source": [
    "Dol=eval(input(\"Please enter doller you want to convert into Rupee:\"))\n",
    "Rup=Dol*85\n",
    "print(f\"{Dol} Doller is equal to {Rup} Repees\")"
   ]
  },
  {
   "cell_type": "code",
   "execution_count": 19,
   "id": "ce7aedd9-fab4-4cce-b807-05c6e9dda7fe",
   "metadata": {},
   "outputs": [
    {
     "name": "stdin",
     "output_type": "stream",
     "text": [
      "Please enter Kg you want to convert into Pound: 20\n"
     ]
    },
    {
     "name": "stdout",
     "output_type": "stream",
     "text": [
      "20 KG is equal to 44.0 Pound\n"
     ]
    }
   ],
   "source": [
    "kg=eval(input(\"Please enter Kg you want to convert into Pound:\"))\n",
    "p=kg*2.2\n",
    "print(f\"{kg} KG is equal to {p} Pound\")"
   ]
  },
  {
   "cell_type": "code",
   "execution_count": null,
   "id": "6762f206-9982-4ed5-812b-1e9d7cb7b4c9",
   "metadata": {},
   "outputs": [],
   "source": []
  }
 ],
 "metadata": {
  "kernelspec": {
   "display_name": "Python [conda env:base] *",
   "language": "python",
   "name": "conda-base-py"
  },
  "language_info": {
   "codemirror_mode": {
    "name": "ipython",
    "version": 3
   },
   "file_extension": ".py",
   "mimetype": "text/x-python",
   "name": "python",
   "nbconvert_exporter": "python",
   "pygments_lexer": "ipython3",
   "version": "3.12.7"
  }
 },
 "nbformat": 4,
 "nbformat_minor": 5
}
